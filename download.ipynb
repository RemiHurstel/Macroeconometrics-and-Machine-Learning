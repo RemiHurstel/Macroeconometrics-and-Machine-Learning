{
 "cells": [
  {
   "cell_type": "code",
   "execution_count": 11,
   "metadata": {},
   "outputs": [
    {
     "data": {
      "text/plain": [
       "True"
      ]
     },
     "execution_count": 11,
     "metadata": {},
     "output_type": "execute_result"
    }
   ],
   "source": [
    "import pandas as pd\n",
    "import pyfredapi as pf\n",
    "from dotenv import load_dotenv\n",
    "load_dotenv()"
   ]
  },
  {
   "cell_type": "code",
   "execution_count": 12,
   "metadata": {},
   "outputs": [],
   "source": [
    "extra_parameters = {\n",
    "    \"observation_start\": \"1990-01-01\",\n",
    "    \"observation_end\": \"2023-12-31\",\n",
    "}"
   ]
  },
  {
   "cell_type": "code",
   "execution_count": 13,
   "metadata": {},
   "outputs": [],
   "source": [
    "list_series_id = [\n",
    "    \"UNRATE\",\n",
    "    \"FEDFUNDS\",\n",
    "    \"M1SL\",\n",
    "    \"STICKCPIM158SFRBATL\",\n",
    "    \"RSXFS\",\n",
    "    \"UMCSENT\",\n",
    "    \"PCUOMFGOMFG\",\n",
    "    \"W875RX1\",\n",
    "    \"M2SL\",\n",
    "    \"DTCTHFNM\",\n",
    "    \"AMBSL\",\n",
    "    \"BUSLOANS\",\n",
    "    \"PCU311311\",\n",
    "    \"BOPGSTB\",\n",
    "    \"TWEXMMTH\",\n",
    "    \"USASARTMISMEI\",\n",
    "    \"IR\",\n",
    "    \"IQ\",\n",
    "    \"IMPGS\",\n",
    "    \"NETEXP\",\n",
    "    \"OECDCPALTT01GYM\",\n",
    "    \"CMRMTSPL\",\n",
    "    \"INDPRO\",\n",
    "    \"PERMIT\",\n",
    "    \"LMJVTTUVUSM647S\",\n",
    "    \"GPDIC1\",\n",
    "    \"MTSDS133FMS\",\n",
    "    \"POILBREUSDM\",\n",
    "    \"GS10\",\n",
    "    \"NONBORRES\",\n",
    "    \"CES0600000007\"\n",
    "]"
   ]
  },
  {
   "cell_type": "code",
   "execution_count": 14,
   "metadata": {},
   "outputs": [
    {
     "name": "stdout",
     "output_type": "stream",
     "text": [
      "Requesting series UNRATE...\n",
      "Requesting series FEDFUNDS...\n",
      "Requesting series M1SL...\n",
      "Requesting series STICKCPIM158SFRBATL...\n",
      "Requesting series RSXFS...\n",
      "Requesting series UMCSENT...\n",
      "Requesting series PCUOMFGOMFG...\n",
      "Requesting series W875RX1...\n",
      "Requesting series M2SL...\n",
      "Requesting series DTCTHFNM...\n",
      "Requesting series AMBSL...\n",
      "Requesting series BUSLOANS...\n",
      "Requesting series PCU311311...\n",
      "Requesting series BOPGSTB...\n",
      "Requesting series TWEXMMTH...\n",
      "Requesting series USASARTMISMEI...\n",
      "Requesting series IR...\n",
      "Requesting series IQ...\n",
      "Requesting series IMPGS...\n",
      "Requesting series NETEXP...\n",
      "Requesting series OECDCPALTT01GYM...\n",
      "Requesting series CMRMTSPL...\n",
      "Requesting series INDPRO...\n",
      "Requesting series PERMIT...\n",
      "Requesting series LMJVTTUVUSM647S...\n",
      "Requesting series GPDIC1...\n",
      "Requesting series MTSDS133FMS...\n",
      "Requesting series POILBREUSDM...\n",
      "Requesting series GS10...\n",
      "Requesting series NONBORRES...\n",
      "Requesting series CES0600000007...\n"
     ]
    }
   ],
   "source": [
    "sc = pf.SeriesCollection(series_id=list_series_id, **extra_parameters)"
   ]
  },
  {
   "cell_type": "code",
   "execution_count": 15,
   "metadata": {},
   "outputs": [
    {
     "data": {
      "text/html": [
       "<pre style=\"white-space:pre;overflow-x:auto;line-height:normal;font-family:Menlo,'DejaVu Sans Mono',consolas,'Courier New',monospace\">UNRATE: Unemployment Rate\n",
       "</pre>\n"
      ],
      "text/plain": [
       "UNRATE: Unemployment Rate\n"
      ]
     },
     "metadata": {},
     "output_type": "display_data"
    },
    {
     "data": {
      "text/html": [
       "<pre style=\"white-space:pre;overflow-x:auto;line-height:normal;font-family:Menlo,'DejaVu Sans Mono',consolas,'Courier New',monospace\">FEDFUNDS: Federal Funds Effective Rate\n",
       "</pre>\n"
      ],
      "text/plain": [
       "FEDFUNDS: Federal Funds Effective Rate\n"
      ]
     },
     "metadata": {},
     "output_type": "display_data"
    },
    {
     "data": {
      "text/html": [
       "<pre style=\"white-space:pre;overflow-x:auto;line-height:normal;font-family:Menlo,'DejaVu Sans Mono',consolas,'Courier New',monospace\">M1SL: M1\n",
       "</pre>\n"
      ],
      "text/plain": [
       "M1SL: M1\n"
      ]
     },
     "metadata": {},
     "output_type": "display_data"
    },
    {
     "data": {
      "text/html": [
       "<pre style=\"white-space:pre;overflow-x:auto;line-height:normal;font-family:Menlo,'DejaVu Sans Mono',consolas,'Courier New',monospace\">STICKCPIM158SFRBATL: Sticky Price Consumer Price Index\n",
       "</pre>\n"
      ],
      "text/plain": [
       "STICKCPIM158SFRBATL: Sticky Price Consumer Price Index\n"
      ]
     },
     "metadata": {},
     "output_type": "display_data"
    },
    {
     "data": {
      "text/html": [
       "<pre style=\"white-space:pre;overflow-x:auto;line-height:normal;font-family:Menlo,'DejaVu Sans Mono',consolas,'Courier New',monospace\">RSXFS: Advance Retail Sales: Retail Trade\n",
       "</pre>\n"
      ],
      "text/plain": [
       "RSXFS: Advance Retail Sales: Retail Trade\n"
      ]
     },
     "metadata": {},
     "output_type": "display_data"
    },
    {
     "data": {
      "text/html": [
       "<pre style=\"white-space:pre;overflow-x:auto;line-height:normal;font-family:Menlo,'DejaVu Sans Mono',consolas,'Courier New',monospace\">UMCSENT: University of Michigan: Consumer Sentiment\n",
       "</pre>\n"
      ],
      "text/plain": [
       "UMCSENT: University of Michigan: Consumer Sentiment\n"
      ]
     },
     "metadata": {},
     "output_type": "display_data"
    },
    {
     "data": {
      "text/html": [
       "<pre style=\"white-space:pre;overflow-x:auto;line-height:normal;font-family:Menlo,'DejaVu Sans Mono',consolas,'Courier New',monospace\">PCUOMFGOMFG: Producer Price Index by Industry: Total Manufacturing Industries\n",
       "</pre>\n"
      ],
      "text/plain": [
       "PCUOMFGOMFG: Producer Price Index by Industry: Total Manufacturing Industries\n"
      ]
     },
     "metadata": {},
     "output_type": "display_data"
    },
    {
     "data": {
      "text/html": [
       "<pre style=\"white-space:pre;overflow-x:auto;line-height:normal;font-family:Menlo,'DejaVu Sans Mono',consolas,'Courier New',monospace\">W875RX1: Real personal income excluding current transfer receipts\n",
       "</pre>\n"
      ],
      "text/plain": [
       "W875RX1: Real personal income excluding current transfer receipts\n"
      ]
     },
     "metadata": {},
     "output_type": "display_data"
    },
    {
     "data": {
      "text/html": [
       "<pre style=\"white-space:pre;overflow-x:auto;line-height:normal;font-family:Menlo,'DejaVu Sans Mono',consolas,'Courier New',monospace\">M2SL: M2\n",
       "</pre>\n"
      ],
      "text/plain": [
       "M2SL: M2\n"
      ]
     },
     "metadata": {},
     "output_type": "display_data"
    },
    {
     "data": {
      "text/html": [
       "<pre style=\"white-space:pre;overflow-x:auto;line-height:normal;font-family:Menlo,'DejaVu Sans Mono',consolas,'Courier New',monospace\">DTCTHFNM: Total Consumer Loans and Leases Owned and Securitized by Finance Companies, Level\n",
       "</pre>\n"
      ],
      "text/plain": [
       "DTCTHFNM: Total Consumer Loans and Leases Owned and Securitized by Finance Companies, Level\n"
      ]
     },
     "metadata": {},
     "output_type": "display_data"
    },
    {
     "data": {
      "text/html": [
       "<pre style=\"white-space:pre;overflow-x:auto;line-height:normal;font-family:Menlo,'DejaVu Sans Mono',consolas,'Courier New',monospace\">AMBSL: St. Louis Adjusted Monetary Base <span style=\"font-weight: bold\">(</span>DISCONTINUED<span style=\"font-weight: bold\">)</span>\n",
       "</pre>\n"
      ],
      "text/plain": [
       "AMBSL: St. Louis Adjusted Monetary Base \u001b[1m(\u001b[0mDISCONTINUED\u001b[1m)\u001b[0m\n"
      ]
     },
     "metadata": {},
     "output_type": "display_data"
    },
    {
     "data": {
      "text/html": [
       "<pre style=\"white-space:pre;overflow-x:auto;line-height:normal;font-family:Menlo,'DejaVu Sans Mono',consolas,'Courier New',monospace\">BUSLOANS: Commercial and Industrial Loans, All Commercial Banks\n",
       "</pre>\n"
      ],
      "text/plain": [
       "BUSLOANS: Commercial and Industrial Loans, All Commercial Banks\n"
      ]
     },
     "metadata": {},
     "output_type": "display_data"
    },
    {
     "data": {
      "text/html": [
       "<pre style=\"white-space:pre;overflow-x:auto;line-height:normal;font-family:Menlo,'DejaVu Sans Mono',consolas,'Courier New',monospace\">PCU311311: Producer Price Index by Industry: Food Manufacturing\n",
       "</pre>\n"
      ],
      "text/plain": [
       "PCU311311: Producer Price Index by Industry: Food Manufacturing\n"
      ]
     },
     "metadata": {},
     "output_type": "display_data"
    },
    {
     "data": {
      "text/html": [
       "<pre style=\"white-space:pre;overflow-x:auto;line-height:normal;font-family:Menlo,'DejaVu Sans Mono',consolas,'Courier New',monospace\">BOPGSTB: Trade Balance: Goods and Services, Balance of Payments Basis\n",
       "</pre>\n"
      ],
      "text/plain": [
       "BOPGSTB: Trade Balance: Goods and Services, Balance of Payments Basis\n"
      ]
     },
     "metadata": {},
     "output_type": "display_data"
    },
    {
     "data": {
      "text/html": [
       "<pre style=\"white-space:pre;overflow-x:auto;line-height:normal;font-family:Menlo,'DejaVu Sans Mono',consolas,'Courier New',monospace\">TWEXMMTH: Nominal Major Currencies U.S. Dollar Index <span style=\"font-weight: bold\">(</span>Goods Only<span style=\"font-weight: bold\">)</span> <span style=\"font-weight: bold\">(</span>DISCONTINUED<span style=\"font-weight: bold\">)</span>\n",
       "</pre>\n"
      ],
      "text/plain": [
       "TWEXMMTH: Nominal Major Currencies U.S. Dollar Index \u001b[1m(\u001b[0mGoods Only\u001b[1m)\u001b[0m \u001b[1m(\u001b[0mDISCONTINUED\u001b[1m)\u001b[0m\n"
      ]
     },
     "metadata": {},
     "output_type": "display_data"
    },
    {
     "data": {
      "text/html": [
       "<pre style=\"white-space:pre;overflow-x:auto;line-height:normal;font-family:Menlo,'DejaVu Sans Mono',consolas,'Courier New',monospace\">USASARTMISMEI: Sales: Retail Trade: Total Retail Trade: Volume for United States\n",
       "</pre>\n"
      ],
      "text/plain": [
       "USASARTMISMEI: Sales: Retail Trade: Total Retail Trade: Volume for United States\n"
      ]
     },
     "metadata": {},
     "output_type": "display_data"
    },
    {
     "data": {
      "text/html": [
       "<pre style=\"white-space:pre;overflow-x:auto;line-height:normal;font-family:Menlo,'DejaVu Sans Mono',consolas,'Courier New',monospace\">IR: Import Price Index <span style=\"font-weight: bold\">(</span>End Use<span style=\"font-weight: bold\">)</span>: All Commodities\n",
       "</pre>\n"
      ],
      "text/plain": [
       "IR: Import Price Index \u001b[1m(\u001b[0mEnd Use\u001b[1m)\u001b[0m: All Commodities\n"
      ]
     },
     "metadata": {},
     "output_type": "display_data"
    },
    {
     "data": {
      "text/html": [
       "<pre style=\"white-space:pre;overflow-x:auto;line-height:normal;font-family:Menlo,'DejaVu Sans Mono',consolas,'Courier New',monospace\">IQ: Export Price Index <span style=\"font-weight: bold\">(</span>End Use<span style=\"font-weight: bold\">)</span>: All Commodities\n",
       "</pre>\n"
      ],
      "text/plain": [
       "IQ: Export Price Index \u001b[1m(\u001b[0mEnd Use\u001b[1m)\u001b[0m: All Commodities\n"
      ]
     },
     "metadata": {},
     "output_type": "display_data"
    },
    {
     "data": {
      "text/html": [
       "<pre style=\"white-space:pre;overflow-x:auto;line-height:normal;font-family:Menlo,'DejaVu Sans Mono',consolas,'Courier New',monospace\">IMPGS: Imports of Goods and Services\n",
       "</pre>\n"
      ],
      "text/plain": [
       "IMPGS: Imports of Goods and Services\n"
      ]
     },
     "metadata": {},
     "output_type": "display_data"
    },
    {
     "data": {
      "text/html": [
       "<pre style=\"white-space:pre;overflow-x:auto;line-height:normal;font-family:Menlo,'DejaVu Sans Mono',consolas,'Courier New',monospace\">NETEXP: Net Exports of Goods and Services\n",
       "</pre>\n"
      ],
      "text/plain": [
       "NETEXP: Net Exports of Goods and Services\n"
      ]
     },
     "metadata": {},
     "output_type": "display_data"
    },
    {
     "data": {
      "text/html": [
       "<pre style=\"white-space:pre;overflow-x:auto;line-height:normal;font-family:Menlo,'DejaVu Sans Mono',consolas,'Courier New',monospace\">OECDCPALTT01GYM: Consumer Price Index: All Items: Total\n",
       "</pre>\n"
      ],
      "text/plain": [
       "OECDCPALTT01GYM: Consumer Price Index: All Items: Total\n"
      ]
     },
     "metadata": {},
     "output_type": "display_data"
    },
    {
     "data": {
      "text/html": [
       "<pre style=\"white-space:pre;overflow-x:auto;line-height:normal;font-family:Menlo,'DejaVu Sans Mono',consolas,'Courier New',monospace\">CMRMTSPL: Real Manufacturing and Trade Industries Sales\n",
       "</pre>\n"
      ],
      "text/plain": [
       "CMRMTSPL: Real Manufacturing and Trade Industries Sales\n"
      ]
     },
     "metadata": {},
     "output_type": "display_data"
    },
    {
     "data": {
      "text/html": [
       "<pre style=\"white-space:pre;overflow-x:auto;line-height:normal;font-family:Menlo,'DejaVu Sans Mono',consolas,'Courier New',monospace\">INDPRO: Industrial Production: Total Index\n",
       "</pre>\n"
      ],
      "text/plain": [
       "INDPRO: Industrial Production: Total Index\n"
      ]
     },
     "metadata": {},
     "output_type": "display_data"
    },
    {
     "data": {
      "text/html": [
       "<pre style=\"white-space:pre;overflow-x:auto;line-height:normal;font-family:Menlo,'DejaVu Sans Mono',consolas,'Courier New',monospace\">PERMIT: New Privately-Owned Housing Units Authorized in Permit-Issuing Places: Total Units\n",
       "</pre>\n"
      ],
      "text/plain": [
       "PERMIT: New Privately-Owned Housing Units Authorized in Permit-Issuing Places: Total Units\n"
      ]
     },
     "metadata": {},
     "output_type": "display_data"
    },
    {
     "data": {
      "text/html": [
       "<pre style=\"white-space:pre;overflow-x:auto;line-height:normal;font-family:Menlo,'DejaVu Sans Mono',consolas,'Courier New',monospace\">LMJVTTUVUSM647S: Other Labor Market Measures: Job Vacancies: Total: Unfilled Vacancies <span style=\"font-weight: bold\">(</span>Stock<span style=\"font-weight: bold\">)</span> for United States\n",
       "</pre>\n"
      ],
      "text/plain": [
       "LMJVTTUVUSM647S: Other Labor Market Measures: Job Vacancies: Total: Unfilled Vacancies \u001b[1m(\u001b[0mStock\u001b[1m)\u001b[0m for United States\n"
      ]
     },
     "metadata": {},
     "output_type": "display_data"
    },
    {
     "data": {
      "text/html": [
       "<pre style=\"white-space:pre;overflow-x:auto;line-height:normal;font-family:Menlo,'DejaVu Sans Mono',consolas,'Courier New',monospace\">GPDIC1: Real Gross Private Domestic Investment\n",
       "</pre>\n"
      ],
      "text/plain": [
       "GPDIC1: Real Gross Private Domestic Investment\n"
      ]
     },
     "metadata": {},
     "output_type": "display_data"
    },
    {
     "data": {
      "text/html": [
       "<pre style=\"white-space:pre;overflow-x:auto;line-height:normal;font-family:Menlo,'DejaVu Sans Mono',consolas,'Courier New',monospace\">MTSDS133FMS: Federal Surplus or Deficit <span style=\"font-weight: bold\">[</span>-<span style=\"font-weight: bold\">]</span>\n",
       "</pre>\n"
      ],
      "text/plain": [
       "MTSDS133FMS: Federal Surplus or Deficit \u001b[1m[\u001b[0m-\u001b[1m]\u001b[0m\n"
      ]
     },
     "metadata": {},
     "output_type": "display_data"
    },
    {
     "data": {
      "text/html": [
       "<pre style=\"white-space:pre;overflow-x:auto;line-height:normal;font-family:Menlo,'DejaVu Sans Mono',consolas,'Courier New',monospace\">POILBREUSDM: Global price of Brent Crude\n",
       "</pre>\n"
      ],
      "text/plain": [
       "POILBREUSDM: Global price of Brent Crude\n"
      ]
     },
     "metadata": {},
     "output_type": "display_data"
    },
    {
     "data": {
      "text/html": [
       "<pre style=\"white-space:pre;overflow-x:auto;line-height:normal;font-family:Menlo,'DejaVu Sans Mono',consolas,'Courier New',monospace\">GS10: Market Yield on U.S. Treasury Securities at <span style=\"color: #008080; text-decoration-color: #008080; font-weight: bold\">10</span>-Year Constant Maturity, Quoted on an Investment Basis\n",
       "</pre>\n"
      ],
      "text/plain": [
       "GS10: Market Yield on U.S. Treasury Securities at \u001b[1;36m10\u001b[0m-Year Constant Maturity, Quoted on an Investment Basis\n"
      ]
     },
     "metadata": {},
     "output_type": "display_data"
    },
    {
     "data": {
      "text/html": [
       "<pre style=\"white-space:pre;overflow-x:auto;line-height:normal;font-family:Menlo,'DejaVu Sans Mono',consolas,'Courier New',monospace\">NONBORRES: Reserves of Depository Institutions, Nonborrowed\n",
       "</pre>\n"
      ],
      "text/plain": [
       "NONBORRES: Reserves of Depository Institutions, Nonborrowed\n"
      ]
     },
     "metadata": {},
     "output_type": "display_data"
    },
    {
     "data": {
      "text/html": [
       "<pre style=\"white-space:pre;overflow-x:auto;line-height:normal;font-family:Menlo,'DejaVu Sans Mono',consolas,'Courier New',monospace\">CES0600000007: Average Weekly Hours of Production and Nonsupervisory Employees, Goods-Producing\n",
       "</pre>\n"
      ],
      "text/plain": [
       "CES0600000007: Average Weekly Hours of Production and Nonsupervisory Employees, Goods-Producing\n"
      ]
     },
     "metadata": {},
     "output_type": "display_data"
    }
   ],
   "source": [
    "sc.list_series()"
   ]
  },
  {
   "cell_type": "code",
   "execution_count": 17,
   "metadata": {},
   "outputs": [],
   "source": [
    "df=sc.merge_wide().set_index(\"date\").pct_change(periods=12)\n",
    "df=df[df.index>=\"1991-01-01\"]"
   ]
  },
  {
   "cell_type": "code",
   "execution_count": 18,
   "metadata": {},
   "outputs": [
    {
     "data": {
      "text/html": [
       "<div>\n",
       "<style scoped>\n",
       "    .dataframe tbody tr th:only-of-type {\n",
       "        vertical-align: middle;\n",
       "    }\n",
       "\n",
       "    .dataframe tbody tr th {\n",
       "        vertical-align: top;\n",
       "    }\n",
       "\n",
       "    .dataframe thead th {\n",
       "        text-align: right;\n",
       "    }\n",
       "</style>\n",
       "<table border=\"1\" class=\"dataframe\">\n",
       "  <thead>\n",
       "    <tr style=\"text-align: right;\">\n",
       "      <th></th>\n",
       "      <th>UNRATE</th>\n",
       "      <th>FEDFUNDS</th>\n",
       "      <th>M1SL</th>\n",
       "      <th>STICKCPIM158SFRBATL</th>\n",
       "      <th>RSXFS</th>\n",
       "      <th>UMCSENT</th>\n",
       "      <th>PCUOMFGOMFG</th>\n",
       "      <th>W875RX1</th>\n",
       "      <th>M2SL</th>\n",
       "      <th>DTCTHFNM</th>\n",
       "      <th>...</th>\n",
       "      <th>CMRMTSPL</th>\n",
       "      <th>INDPRO</th>\n",
       "      <th>PERMIT</th>\n",
       "      <th>LMJVTTUVUSM647S</th>\n",
       "      <th>GPDIC1</th>\n",
       "      <th>MTSDS133FMS</th>\n",
       "      <th>POILBREUSDM</th>\n",
       "      <th>GS10</th>\n",
       "      <th>NONBORRES</th>\n",
       "      <th>CES0600000007</th>\n",
       "    </tr>\n",
       "    <tr>\n",
       "      <th>date</th>\n",
       "      <th></th>\n",
       "      <th></th>\n",
       "      <th></th>\n",
       "      <th></th>\n",
       "      <th></th>\n",
       "      <th></th>\n",
       "      <th></th>\n",
       "      <th></th>\n",
       "      <th></th>\n",
       "      <th></th>\n",
       "      <th></th>\n",
       "      <th></th>\n",
       "      <th></th>\n",
       "      <th></th>\n",
       "      <th></th>\n",
       "      <th></th>\n",
       "      <th></th>\n",
       "      <th></th>\n",
       "      <th></th>\n",
       "      <th></th>\n",
       "      <th></th>\n",
       "    </tr>\n",
       "  </thead>\n",
       "  <tbody>\n",
       "    <tr>\n",
       "      <th>1991-01-01</th>\n",
       "      <td>0.185185</td>\n",
       "      <td>-0.160389</td>\n",
       "      <td>0.039980</td>\n",
       "      <td>0.513320</td>\n",
       "      <td>NaN</td>\n",
       "      <td>-0.281720</td>\n",
       "      <td>0.037267</td>\n",
       "      <td>-0.009423</td>\n",
       "      <td>0.038177</td>\n",
       "      <td>0.053641</td>\n",
       "      <td>...</td>\n",
       "      <td>-0.027168</td>\n",
       "      <td>-0.008937</td>\n",
       "      <td>-0.550343</td>\n",
       "      <td>NaN</td>\n",
       "      <td>-0.104767</td>\n",
       "      <td>-0.800773</td>\n",
       "      <td>0.142724</td>\n",
       "      <td>-0.014616</td>\n",
       "      <td>-0.193600</td>\n",
       "      <td>-0.012376</td>\n",
       "    </tr>\n",
       "    <tr>\n",
       "      <th>1991-02-01</th>\n",
       "      <td>0.245283</td>\n",
       "      <td>-0.241505</td>\n",
       "      <td>0.043228</td>\n",
       "      <td>0.182822</td>\n",
       "      <td>NaN</td>\n",
       "      <td>-0.213408</td>\n",
       "      <td>0.035651</td>\n",
       "      <td>-0.013092</td>\n",
       "      <td>0.039412</td>\n",
       "      <td>0.054544</td>\n",
       "      <td>...</td>\n",
       "      <td>-0.035737</td>\n",
       "      <td>-0.025054</td>\n",
       "      <td>-0.358164</td>\n",
       "      <td>NaN</td>\n",
       "      <td>-0.104767</td>\n",
       "      <td>-0.256085</td>\n",
       "      <td>-0.020810</td>\n",
       "      <td>-0.073200</td>\n",
       "      <td>-0.182741</td>\n",
       "      <td>-0.007481</td>\n",
       "    </tr>\n",
       "    <tr>\n",
       "      <th>1991-03-01</th>\n",
       "      <td>0.307692</td>\n",
       "      <td>-0.260870</td>\n",
       "      <td>0.046413</td>\n",
       "      <td>-0.603598</td>\n",
       "      <td>NaN</td>\n",
       "      <td>-0.039430</td>\n",
       "      <td>0.026714</td>\n",
       "      <td>-0.013413</td>\n",
       "      <td>0.041315</td>\n",
       "      <td>0.056215</td>\n",
       "      <td>...</td>\n",
       "      <td>-0.046866</td>\n",
       "      <td>-0.035195</td>\n",
       "      <td>-0.268860</td>\n",
       "      <td>NaN</td>\n",
       "      <td>-0.104767</td>\n",
       "      <td>-0.227871</td>\n",
       "      <td>0.059352</td>\n",
       "      <td>-0.055879</td>\n",
       "      <td>-0.174359</td>\n",
       "      <td>-0.012438</td>\n",
       "    </tr>\n",
       "    <tr>\n",
       "      <th>1991-04-01</th>\n",
       "      <td>0.240741</td>\n",
       "      <td>-0.284504</td>\n",
       "      <td>0.045900</td>\n",
       "      <td>-0.405222</td>\n",
       "      <td>NaN</td>\n",
       "      <td>-0.128860</td>\n",
       "      <td>0.024867</td>\n",
       "      <td>-0.017321</td>\n",
       "      <td>0.040855</td>\n",
       "      <td>0.058584</td>\n",
       "      <td>...</td>\n",
       "      <td>-0.016754</td>\n",
       "      <td>-0.030371</td>\n",
       "      <td>-0.193662</td>\n",
       "      <td>NaN</td>\n",
       "      <td>-0.105050</td>\n",
       "      <td>-0.282579</td>\n",
       "      <td>0.142527</td>\n",
       "      <td>-0.085324</td>\n",
       "      <td>-0.177340</td>\n",
       "      <td>-0.005000</td>\n",
       "    </tr>\n",
       "    <tr>\n",
       "      <th>1991-05-01</th>\n",
       "      <td>0.277778</td>\n",
       "      <td>-0.293399</td>\n",
       "      <td>0.055459</td>\n",
       "      <td>-0.167383</td>\n",
       "      <td>NaN</td>\n",
       "      <td>-0.135762</td>\n",
       "      <td>0.022104</td>\n",
       "      <td>-0.016283</td>\n",
       "      <td>0.044492</td>\n",
       "      <td>0.060617</td>\n",
       "      <td>...</td>\n",
       "      <td>-0.016679</td>\n",
       "      <td>-0.023667</td>\n",
       "      <td>-0.071228</td>\n",
       "      <td>NaN</td>\n",
       "      <td>-0.105050</td>\n",
       "      <td>0.256226</td>\n",
       "      <td>0.152693</td>\n",
       "      <td>-0.078767</td>\n",
       "      <td>-0.171477</td>\n",
       "      <td>-0.007481</td>\n",
       "    </tr>\n",
       "    <tr>\n",
       "      <th>...</th>\n",
       "      <td>...</td>\n",
       "      <td>...</td>\n",
       "      <td>...</td>\n",
       "      <td>...</td>\n",
       "      <td>...</td>\n",
       "      <td>...</td>\n",
       "      <td>...</td>\n",
       "      <td>...</td>\n",
       "      <td>...</td>\n",
       "      <td>...</td>\n",
       "      <td>...</td>\n",
       "      <td>...</td>\n",
       "      <td>...</td>\n",
       "      <td>...</td>\n",
       "      <td>...</td>\n",
       "      <td>...</td>\n",
       "      <td>...</td>\n",
       "      <td>...</td>\n",
       "      <td>...</td>\n",
       "      <td>...</td>\n",
       "      <td>...</td>\n",
       "    </tr>\n",
       "    <tr>\n",
       "      <th>2023-08-01</th>\n",
       "      <td>0.055556</td>\n",
       "      <td>1.287554</td>\n",
       "      <td>-0.106271</td>\n",
       "      <td>-0.402101</td>\n",
       "      <td>0.019755</td>\n",
       "      <td>0.192440</td>\n",
       "      <td>-0.001547</td>\n",
       "      <td>0.017687</td>\n",
       "      <td>-0.038514</td>\n",
       "      <td>0.018740</td>\n",
       "      <td>...</td>\n",
       "      <td>0.007360</td>\n",
       "      <td>-0.000180</td>\n",
       "      <td>-0.028373</td>\n",
       "      <td>-0.068739</td>\n",
       "      <td>0.021443</td>\n",
       "      <td>-1.406453</td>\n",
       "      <td>-0.127759</td>\n",
       "      <td>0.437931</td>\n",
       "      <td>-0.096130</td>\n",
       "      <td>0.000000</td>\n",
       "    </tr>\n",
       "    <tr>\n",
       "      <th>2023-09-01</th>\n",
       "      <td>0.085714</td>\n",
       "      <td>1.082031</td>\n",
       "      <td>-0.104004</td>\n",
       "      <td>-0.335414</td>\n",
       "      <td>0.031122</td>\n",
       "      <td>0.158703</td>\n",
       "      <td>0.001437</td>\n",
       "      <td>0.016345</td>\n",
       "      <td>-0.035763</td>\n",
       "      <td>0.026209</td>\n",
       "      <td>...</td>\n",
       "      <td>0.013273</td>\n",
       "      <td>-0.001844</td>\n",
       "      <td>-0.073678</td>\n",
       "      <td>-0.119864</td>\n",
       "      <td>0.021443</td>\n",
       "      <td>-0.602065</td>\n",
       "      <td>0.022792</td>\n",
       "      <td>0.244318</td>\n",
       "      <td>-0.030118</td>\n",
       "      <td>-0.004914</td>\n",
       "    </tr>\n",
       "    <tr>\n",
       "      <th>2023-10-01</th>\n",
       "      <td>0.055556</td>\n",
       "      <td>0.730519</td>\n",
       "      <td>-0.100422</td>\n",
       "      <td>-0.251475</td>\n",
       "      <td>0.013248</td>\n",
       "      <td>0.065109</td>\n",
       "      <td>-0.019746</td>\n",
       "      <td>0.022137</td>\n",
       "      <td>-0.033014</td>\n",
       "      <td>0.030130</td>\n",
       "      <td>...</td>\n",
       "      <td>0.013445</td>\n",
       "      <td>-0.009598</td>\n",
       "      <td>-0.036656</td>\n",
       "      <td>-0.087671</td>\n",
       "      <td>0.012951</td>\n",
       "      <td>-0.241854</td>\n",
       "      <td>-0.050906</td>\n",
       "      <td>0.206030</td>\n",
       "      <td>0.022629</td>\n",
       "      <td>-0.004902</td>\n",
       "    </tr>\n",
       "    <tr>\n",
       "      <th>2023-11-01</th>\n",
       "      <td>0.027778</td>\n",
       "      <td>0.410053</td>\n",
       "      <td>-0.096124</td>\n",
       "      <td>-0.398805</td>\n",
       "      <td>0.030627</td>\n",
       "      <td>0.081129</td>\n",
       "      <td>-0.022329</td>\n",
       "      <td>0.029444</td>\n",
       "      <td>-0.029529</td>\n",
       "      <td>0.031940</td>\n",
       "      <td>...</td>\n",
       "      <td>0.021864</td>\n",
       "      <td>-0.003935</td>\n",
       "      <td>0.046362</td>\n",
       "      <td>-0.111018</td>\n",
       "      <td>0.012951</td>\n",
       "      <td>0.263452</td>\n",
       "      <td>-0.096244</td>\n",
       "      <td>0.156812</td>\n",
       "      <td>0.046057</td>\n",
       "      <td>0.004950</td>\n",
       "    </tr>\n",
       "    <tr>\n",
       "      <th>2023-12-01</th>\n",
       "      <td>0.057143</td>\n",
       "      <td>0.300000</td>\n",
       "      <td>-0.089557</td>\n",
       "      <td>-0.423202</td>\n",
       "      <td>0.038154</td>\n",
       "      <td>0.025084</td>\n",
       "      <td>0.008743</td>\n",
       "      <td>0.029652</td>\n",
       "      <td>-0.027666</td>\n",
       "      <td>0.034777</td>\n",
       "      <td>...</td>\n",
       "      <td>0.007052</td>\n",
       "      <td>0.011630</td>\n",
       "      <td>0.041164</td>\n",
       "      <td>-0.149635</td>\n",
       "      <td>0.012951</td>\n",
       "      <td>2.694227</td>\n",
       "      <td>0.008382</td>\n",
       "      <td>0.110497</td>\n",
       "      <td>0.051812</td>\n",
       "      <td>0.002481</td>\n",
       "    </tr>\n",
       "  </tbody>\n",
       "</table>\n",
       "<p>396 rows × 31 columns</p>\n",
       "</div>"
      ],
      "text/plain": [
       "              UNRATE  FEDFUNDS      M1SL  STICKCPIM158SFRBATL     RSXFS  \\\n",
       "date                                                                      \n",
       "1991-01-01  0.185185 -0.160389  0.039980             0.513320       NaN   \n",
       "1991-02-01  0.245283 -0.241505  0.043228             0.182822       NaN   \n",
       "1991-03-01  0.307692 -0.260870  0.046413            -0.603598       NaN   \n",
       "1991-04-01  0.240741 -0.284504  0.045900            -0.405222       NaN   \n",
       "1991-05-01  0.277778 -0.293399  0.055459            -0.167383       NaN   \n",
       "...              ...       ...       ...                  ...       ...   \n",
       "2023-08-01  0.055556  1.287554 -0.106271            -0.402101  0.019755   \n",
       "2023-09-01  0.085714  1.082031 -0.104004            -0.335414  0.031122   \n",
       "2023-10-01  0.055556  0.730519 -0.100422            -0.251475  0.013248   \n",
       "2023-11-01  0.027778  0.410053 -0.096124            -0.398805  0.030627   \n",
       "2023-12-01  0.057143  0.300000 -0.089557            -0.423202  0.038154   \n",
       "\n",
       "             UMCSENT  PCUOMFGOMFG   W875RX1      M2SL  DTCTHFNM  ...  \\\n",
       "date                                                             ...   \n",
       "1991-01-01 -0.281720     0.037267 -0.009423  0.038177  0.053641  ...   \n",
       "1991-02-01 -0.213408     0.035651 -0.013092  0.039412  0.054544  ...   \n",
       "1991-03-01 -0.039430     0.026714 -0.013413  0.041315  0.056215  ...   \n",
       "1991-04-01 -0.128860     0.024867 -0.017321  0.040855  0.058584  ...   \n",
       "1991-05-01 -0.135762     0.022104 -0.016283  0.044492  0.060617  ...   \n",
       "...              ...          ...       ...       ...       ...  ...   \n",
       "2023-08-01  0.192440    -0.001547  0.017687 -0.038514  0.018740  ...   \n",
       "2023-09-01  0.158703     0.001437  0.016345 -0.035763  0.026209  ...   \n",
       "2023-10-01  0.065109    -0.019746  0.022137 -0.033014  0.030130  ...   \n",
       "2023-11-01  0.081129    -0.022329  0.029444 -0.029529  0.031940  ...   \n",
       "2023-12-01  0.025084     0.008743  0.029652 -0.027666  0.034777  ...   \n",
       "\n",
       "            CMRMTSPL    INDPRO    PERMIT  LMJVTTUVUSM647S    GPDIC1  \\\n",
       "date                                                                  \n",
       "1991-01-01 -0.027168 -0.008937 -0.550343              NaN -0.104767   \n",
       "1991-02-01 -0.035737 -0.025054 -0.358164              NaN -0.104767   \n",
       "1991-03-01 -0.046866 -0.035195 -0.268860              NaN -0.104767   \n",
       "1991-04-01 -0.016754 -0.030371 -0.193662              NaN -0.105050   \n",
       "1991-05-01 -0.016679 -0.023667 -0.071228              NaN -0.105050   \n",
       "...              ...       ...       ...              ...       ...   \n",
       "2023-08-01  0.007360 -0.000180 -0.028373        -0.068739  0.021443   \n",
       "2023-09-01  0.013273 -0.001844 -0.073678        -0.119864  0.021443   \n",
       "2023-10-01  0.013445 -0.009598 -0.036656        -0.087671  0.012951   \n",
       "2023-11-01  0.021864 -0.003935  0.046362        -0.111018  0.012951   \n",
       "2023-12-01  0.007052  0.011630  0.041164        -0.149635  0.012951   \n",
       "\n",
       "            MTSDS133FMS  POILBREUSDM      GS10  NONBORRES  CES0600000007  \n",
       "date                                                                      \n",
       "1991-01-01    -0.800773     0.142724 -0.014616  -0.193600      -0.012376  \n",
       "1991-02-01    -0.256085    -0.020810 -0.073200  -0.182741      -0.007481  \n",
       "1991-03-01    -0.227871     0.059352 -0.055879  -0.174359      -0.012438  \n",
       "1991-04-01    -0.282579     0.142527 -0.085324  -0.177340      -0.005000  \n",
       "1991-05-01     0.256226     0.152693 -0.078767  -0.171477      -0.007481  \n",
       "...                 ...          ...       ...        ...            ...  \n",
       "2023-08-01    -1.406453    -0.127759  0.437931  -0.096130       0.000000  \n",
       "2023-09-01    -0.602065     0.022792  0.244318  -0.030118      -0.004914  \n",
       "2023-10-01    -0.241854    -0.050906  0.206030   0.022629      -0.004902  \n",
       "2023-11-01     0.263452    -0.096244  0.156812   0.046057       0.004950  \n",
       "2023-12-01     2.694227     0.008382  0.110497   0.051812       0.002481  \n",
       "\n",
       "[396 rows x 31 columns]"
      ]
     },
     "execution_count": 18,
     "metadata": {},
     "output_type": "execute_result"
    }
   ],
   "source": [
    "df"
   ]
  }
 ],
 "metadata": {
  "kernelspec": {
   "display_name": "Python 3",
   "language": "python",
   "name": "python3"
  },
  "language_info": {
   "codemirror_mode": {
    "name": "ipython",
    "version": 3
   },
   "file_extension": ".py",
   "mimetype": "text/x-python",
   "name": "python",
   "nbconvert_exporter": "python",
   "pygments_lexer": "ipython3",
   "version": "3.11.7"
  }
 },
 "nbformat": 4,
 "nbformat_minor": 2
}
