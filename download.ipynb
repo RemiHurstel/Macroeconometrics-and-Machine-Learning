{
 "cells": [
  {
   "cell_type": "code",
   "execution_count": 1,
   "metadata": {},
   "outputs": [
    {
     "data": {
      "text/plain": [
       "True"
      ]
     },
     "execution_count": 1,
     "metadata": {},
     "output_type": "execute_result"
    }
   ],
   "source": [
    "import pandas as pd\n",
    "import pyfredapi as pf\n",
    "from dotenv import load_dotenv\n",
    "import csv\n",
    "load_dotenv()"
   ]
  },
  {
   "cell_type": "code",
   "execution_count": 2,
   "metadata": {},
   "outputs": [],
   "source": [
    "extra_parameters = {\n",
    "    \"observation_start\": \"1990-01-01\",\n",
    "    \"observation_end\": \"2023-12-31\",\n",
    "}"
   ]
  },
  {
   "cell_type": "code",
   "execution_count": 20,
   "metadata": {},
   "outputs": [],
   "source": [
    "list_series_id = [\n",
    "    \"CPIAUCSL\",\n",
    "    \"UNRATE\",\n",
    "    \"FEDFUNDS\",\n",
    "    \"M1SL\",\n",
    "    \"MRTSSM44000USS\",\n",
    "    \"UMCSENT\",\n",
    "    \"PCUOMFGOMFG\",\n",
    "    \"W875RX1\",\n",
    "    \"M2SL\",\n",
    "    \"DTCTHFNM\",\n",
    "    \"AMBSL\",\n",
    "    \"BUSLOANS\",\n",
    "    \"PCU311311\",\n",
    "    \"BOPGSTB\",\n",
    "    \"TWEXMMTH\",\n",
    "    \"USASARTMISMEI\",\n",
    "    \"IR\",\n",
    "    \"IQ\",\n",
    "    \"IMPGS\",\n",
    "    \"NETEXP\",\n",
    "    \"OECDCPALTT01GYM\",\n",
    "    \"CMRMTSPL\",\n",
    "    \"INDPRO\",\n",
    "    \"PERMIT\",\n",
    "    \"GPDIC1\",\n",
    "    \"MTSDS133FMS\",\n",
    "    \"POILBREUSDM\",\n",
    "    \"GS10\",\n",
    "    \"NONBORRES\",\n",
    "    \"CES0600000007\"\n",
    "]"
   ]
  },
  {
   "cell_type": "code",
   "execution_count": 21,
   "metadata": {},
   "outputs": [
    {
     "name": "stdout",
     "output_type": "stream",
     "text": [
      "Requesting series CPIAUCSL...\n",
      "Requesting series UNRATE...\n",
      "Requesting series FEDFUNDS...\n",
      "Requesting series M1SL...\n",
      "Requesting series MRTSSM44000USS...\n",
      "Requesting series UMCSENT...\n",
      "Requesting series PCUOMFGOMFG...\n",
      "Requesting series W875RX1...\n",
      "Requesting series M2SL...\n",
      "Requesting series DTCTHFNM...\n",
      "Requesting series AMBSL...\n",
      "Requesting series BUSLOANS...\n",
      "Requesting series PCU311311...\n",
      "Requesting series BOPGSTB...\n",
      "Requesting series TWEXMMTH...\n",
      "Requesting series USASARTMISMEI...\n",
      "Requesting series IR...\n",
      "Requesting series IQ...\n",
      "Requesting series IMPGS...\n",
      "Requesting series NETEXP...\n",
      "Requesting series OECDCPALTT01GYM...\n",
      "Requesting series CMRMTSPL...\n",
      "Requesting series INDPRO...\n",
      "Requesting series PERMIT...\n",
      "Requesting series GPDIC1...\n",
      "Requesting series MTSDS133FMS...\n",
      "Requesting series POILBREUSDM...\n",
      "Requesting series GS10...\n",
      "Requesting series NONBORRES...\n",
      "Requesting series CES0600000007...\n"
     ]
    }
   ],
   "source": [
    "sc = pf.SeriesCollection(series_id=list_series_id, **extra_parameters)"
   ]
  },
  {
   "cell_type": "code",
   "execution_count": 22,
   "metadata": {},
   "outputs": [
    {
     "data": {
      "text/html": [
       "<pre style=\"white-space:pre;overflow-x:auto;line-height:normal;font-family:Menlo,'DejaVu Sans Mono',consolas,'Courier New',monospace\">CPIAUCSL: Consumer Price Index for All Urban Consumers: All Items in U.S. City Average\n",
       "</pre>\n"
      ],
      "text/plain": [
       "CPIAUCSL: Consumer Price Index for All Urban Consumers: All Items in U.S. City Average\n"
      ]
     },
     "metadata": {},
     "output_type": "display_data"
    },
    {
     "data": {
      "text/html": [
       "<pre style=\"white-space:pre;overflow-x:auto;line-height:normal;font-family:Menlo,'DejaVu Sans Mono',consolas,'Courier New',monospace\">UNRATE: Unemployment Rate\n",
       "</pre>\n"
      ],
      "text/plain": [
       "UNRATE: Unemployment Rate\n"
      ]
     },
     "metadata": {},
     "output_type": "display_data"
    },
    {
     "data": {
      "text/html": [
       "<pre style=\"white-space:pre;overflow-x:auto;line-height:normal;font-family:Menlo,'DejaVu Sans Mono',consolas,'Courier New',monospace\">FEDFUNDS: Federal Funds Effective Rate\n",
       "</pre>\n"
      ],
      "text/plain": [
       "FEDFUNDS: Federal Funds Effective Rate\n"
      ]
     },
     "metadata": {},
     "output_type": "display_data"
    },
    {
     "data": {
      "text/html": [
       "<pre style=\"white-space:pre;overflow-x:auto;line-height:normal;font-family:Menlo,'DejaVu Sans Mono',consolas,'Courier New',monospace\">M1SL: M1\n",
       "</pre>\n"
      ],
      "text/plain": [
       "M1SL: M1\n"
      ]
     },
     "metadata": {},
     "output_type": "display_data"
    },
    {
     "data": {
      "text/html": [
       "<pre style=\"white-space:pre;overflow-x:auto;line-height:normal;font-family:Menlo,'DejaVu Sans Mono',consolas,'Courier New',monospace\">MRTSSM44000USS: Retail Sales: Retail Trade\n",
       "</pre>\n"
      ],
      "text/plain": [
       "MRTSSM44000USS: Retail Sales: Retail Trade\n"
      ]
     },
     "metadata": {},
     "output_type": "display_data"
    },
    {
     "data": {
      "text/html": [
       "<pre style=\"white-space:pre;overflow-x:auto;line-height:normal;font-family:Menlo,'DejaVu Sans Mono',consolas,'Courier New',monospace\">UMCSENT: University of Michigan: Consumer Sentiment\n",
       "</pre>\n"
      ],
      "text/plain": [
       "UMCSENT: University of Michigan: Consumer Sentiment\n"
      ]
     },
     "metadata": {},
     "output_type": "display_data"
    },
    {
     "data": {
      "text/html": [
       "<pre style=\"white-space:pre;overflow-x:auto;line-height:normal;font-family:Menlo,'DejaVu Sans Mono',consolas,'Courier New',monospace\">PCUOMFGOMFG: Producer Price Index by Industry: Total Manufacturing Industries\n",
       "</pre>\n"
      ],
      "text/plain": [
       "PCUOMFGOMFG: Producer Price Index by Industry: Total Manufacturing Industries\n"
      ]
     },
     "metadata": {},
     "output_type": "display_data"
    },
    {
     "data": {
      "text/html": [
       "<pre style=\"white-space:pre;overflow-x:auto;line-height:normal;font-family:Menlo,'DejaVu Sans Mono',consolas,'Courier New',monospace\">W875RX1: Real personal income excluding current transfer receipts\n",
       "</pre>\n"
      ],
      "text/plain": [
       "W875RX1: Real personal income excluding current transfer receipts\n"
      ]
     },
     "metadata": {},
     "output_type": "display_data"
    },
    {
     "data": {
      "text/html": [
       "<pre style=\"white-space:pre;overflow-x:auto;line-height:normal;font-family:Menlo,'DejaVu Sans Mono',consolas,'Courier New',monospace\">M2SL: M2\n",
       "</pre>\n"
      ],
      "text/plain": [
       "M2SL: M2\n"
      ]
     },
     "metadata": {},
     "output_type": "display_data"
    },
    {
     "data": {
      "text/html": [
       "<pre style=\"white-space:pre;overflow-x:auto;line-height:normal;font-family:Menlo,'DejaVu Sans Mono',consolas,'Courier New',monospace\">DTCTHFNM: Total Consumer Loans and Leases Owned and Securitized by Finance Companies, Level\n",
       "</pre>\n"
      ],
      "text/plain": [
       "DTCTHFNM: Total Consumer Loans and Leases Owned and Securitized by Finance Companies, Level\n"
      ]
     },
     "metadata": {},
     "output_type": "display_data"
    },
    {
     "data": {
      "text/html": [
       "<pre style=\"white-space:pre;overflow-x:auto;line-height:normal;font-family:Menlo,'DejaVu Sans Mono',consolas,'Courier New',monospace\">AMBSL: St. Louis Adjusted Monetary Base <span style=\"font-weight: bold\">(</span>DISCONTINUED<span style=\"font-weight: bold\">)</span>\n",
       "</pre>\n"
      ],
      "text/plain": [
       "AMBSL: St. Louis Adjusted Monetary Base \u001b[1m(\u001b[0mDISCONTINUED\u001b[1m)\u001b[0m\n"
      ]
     },
     "metadata": {},
     "output_type": "display_data"
    },
    {
     "data": {
      "text/html": [
       "<pre style=\"white-space:pre;overflow-x:auto;line-height:normal;font-family:Menlo,'DejaVu Sans Mono',consolas,'Courier New',monospace\">BUSLOANS: Commercial and Industrial Loans, All Commercial Banks\n",
       "</pre>\n"
      ],
      "text/plain": [
       "BUSLOANS: Commercial and Industrial Loans, All Commercial Banks\n"
      ]
     },
     "metadata": {},
     "output_type": "display_data"
    },
    {
     "data": {
      "text/html": [
       "<pre style=\"white-space:pre;overflow-x:auto;line-height:normal;font-family:Menlo,'DejaVu Sans Mono',consolas,'Courier New',monospace\">PCU311311: Producer Price Index by Industry: Food Manufacturing\n",
       "</pre>\n"
      ],
      "text/plain": [
       "PCU311311: Producer Price Index by Industry: Food Manufacturing\n"
      ]
     },
     "metadata": {},
     "output_type": "display_data"
    },
    {
     "data": {
      "text/html": [
       "<pre style=\"white-space:pre;overflow-x:auto;line-height:normal;font-family:Menlo,'DejaVu Sans Mono',consolas,'Courier New',monospace\">BOPGSTB: Trade Balance: Goods and Services, Balance of Payments Basis\n",
       "</pre>\n"
      ],
      "text/plain": [
       "BOPGSTB: Trade Balance: Goods and Services, Balance of Payments Basis\n"
      ]
     },
     "metadata": {},
     "output_type": "display_data"
    },
    {
     "data": {
      "text/html": [
       "<pre style=\"white-space:pre;overflow-x:auto;line-height:normal;font-family:Menlo,'DejaVu Sans Mono',consolas,'Courier New',monospace\">TWEXMMTH: Nominal Major Currencies U.S. Dollar Index <span style=\"font-weight: bold\">(</span>Goods Only<span style=\"font-weight: bold\">)</span> <span style=\"font-weight: bold\">(</span>DISCONTINUED<span style=\"font-weight: bold\">)</span>\n",
       "</pre>\n"
      ],
      "text/plain": [
       "TWEXMMTH: Nominal Major Currencies U.S. Dollar Index \u001b[1m(\u001b[0mGoods Only\u001b[1m)\u001b[0m \u001b[1m(\u001b[0mDISCONTINUED\u001b[1m)\u001b[0m\n"
      ]
     },
     "metadata": {},
     "output_type": "display_data"
    },
    {
     "data": {
      "text/html": [
       "<pre style=\"white-space:pre;overflow-x:auto;line-height:normal;font-family:Menlo,'DejaVu Sans Mono',consolas,'Courier New',monospace\">USASARTMISMEI: Sales: Retail Trade: Total Retail Trade: Volume for United States\n",
       "</pre>\n"
      ],
      "text/plain": [
       "USASARTMISMEI: Sales: Retail Trade: Total Retail Trade: Volume for United States\n"
      ]
     },
     "metadata": {},
     "output_type": "display_data"
    },
    {
     "data": {
      "text/html": [
       "<pre style=\"white-space:pre;overflow-x:auto;line-height:normal;font-family:Menlo,'DejaVu Sans Mono',consolas,'Courier New',monospace\">IR: Import Price Index <span style=\"font-weight: bold\">(</span>End Use<span style=\"font-weight: bold\">)</span>: All Commodities\n",
       "</pre>\n"
      ],
      "text/plain": [
       "IR: Import Price Index \u001b[1m(\u001b[0mEnd Use\u001b[1m)\u001b[0m: All Commodities\n"
      ]
     },
     "metadata": {},
     "output_type": "display_data"
    },
    {
     "data": {
      "text/html": [
       "<pre style=\"white-space:pre;overflow-x:auto;line-height:normal;font-family:Menlo,'DejaVu Sans Mono',consolas,'Courier New',monospace\">IQ: Export Price Index <span style=\"font-weight: bold\">(</span>End Use<span style=\"font-weight: bold\">)</span>: All Commodities\n",
       "</pre>\n"
      ],
      "text/plain": [
       "IQ: Export Price Index \u001b[1m(\u001b[0mEnd Use\u001b[1m)\u001b[0m: All Commodities\n"
      ]
     },
     "metadata": {},
     "output_type": "display_data"
    },
    {
     "data": {
      "text/html": [
       "<pre style=\"white-space:pre;overflow-x:auto;line-height:normal;font-family:Menlo,'DejaVu Sans Mono',consolas,'Courier New',monospace\">IMPGS: Imports of Goods and Services\n",
       "</pre>\n"
      ],
      "text/plain": [
       "IMPGS: Imports of Goods and Services\n"
      ]
     },
     "metadata": {},
     "output_type": "display_data"
    },
    {
     "data": {
      "text/html": [
       "<pre style=\"white-space:pre;overflow-x:auto;line-height:normal;font-family:Menlo,'DejaVu Sans Mono',consolas,'Courier New',monospace\">NETEXP: Net Exports of Goods and Services\n",
       "</pre>\n"
      ],
      "text/plain": [
       "NETEXP: Net Exports of Goods and Services\n"
      ]
     },
     "metadata": {},
     "output_type": "display_data"
    },
    {
     "data": {
      "text/html": [
       "<pre style=\"white-space:pre;overflow-x:auto;line-height:normal;font-family:Menlo,'DejaVu Sans Mono',consolas,'Courier New',monospace\">OECDCPALTT01GYM: Consumer Price Index: All Items: Total\n",
       "</pre>\n"
      ],
      "text/plain": [
       "OECDCPALTT01GYM: Consumer Price Index: All Items: Total\n"
      ]
     },
     "metadata": {},
     "output_type": "display_data"
    },
    {
     "data": {
      "text/html": [
       "<pre style=\"white-space:pre;overflow-x:auto;line-height:normal;font-family:Menlo,'DejaVu Sans Mono',consolas,'Courier New',monospace\">CMRMTSPL: Real Manufacturing and Trade Industries Sales\n",
       "</pre>\n"
      ],
      "text/plain": [
       "CMRMTSPL: Real Manufacturing and Trade Industries Sales\n"
      ]
     },
     "metadata": {},
     "output_type": "display_data"
    },
    {
     "data": {
      "text/html": [
       "<pre style=\"white-space:pre;overflow-x:auto;line-height:normal;font-family:Menlo,'DejaVu Sans Mono',consolas,'Courier New',monospace\">INDPRO: Industrial Production: Total Index\n",
       "</pre>\n"
      ],
      "text/plain": [
       "INDPRO: Industrial Production: Total Index\n"
      ]
     },
     "metadata": {},
     "output_type": "display_data"
    },
    {
     "data": {
      "text/html": [
       "<pre style=\"white-space:pre;overflow-x:auto;line-height:normal;font-family:Menlo,'DejaVu Sans Mono',consolas,'Courier New',monospace\">PERMIT: New Privately-Owned Housing Units Authorized in Permit-Issuing Places: Total Units\n",
       "</pre>\n"
      ],
      "text/plain": [
       "PERMIT: New Privately-Owned Housing Units Authorized in Permit-Issuing Places: Total Units\n"
      ]
     },
     "metadata": {},
     "output_type": "display_data"
    },
    {
     "data": {
      "text/html": [
       "<pre style=\"white-space:pre;overflow-x:auto;line-height:normal;font-family:Menlo,'DejaVu Sans Mono',consolas,'Courier New',monospace\">GPDIC1: Real Gross Private Domestic Investment\n",
       "</pre>\n"
      ],
      "text/plain": [
       "GPDIC1: Real Gross Private Domestic Investment\n"
      ]
     },
     "metadata": {},
     "output_type": "display_data"
    },
    {
     "data": {
      "text/html": [
       "<pre style=\"white-space:pre;overflow-x:auto;line-height:normal;font-family:Menlo,'DejaVu Sans Mono',consolas,'Courier New',monospace\">MTSDS133FMS: Federal Surplus or Deficit <span style=\"font-weight: bold\">[</span>-<span style=\"font-weight: bold\">]</span>\n",
       "</pre>\n"
      ],
      "text/plain": [
       "MTSDS133FMS: Federal Surplus or Deficit \u001b[1m[\u001b[0m-\u001b[1m]\u001b[0m\n"
      ]
     },
     "metadata": {},
     "output_type": "display_data"
    },
    {
     "data": {
      "text/html": [
       "<pre style=\"white-space:pre;overflow-x:auto;line-height:normal;font-family:Menlo,'DejaVu Sans Mono',consolas,'Courier New',monospace\">POILBREUSDM: Global price of Brent Crude\n",
       "</pre>\n"
      ],
      "text/plain": [
       "POILBREUSDM: Global price of Brent Crude\n"
      ]
     },
     "metadata": {},
     "output_type": "display_data"
    },
    {
     "data": {
      "text/html": [
       "<pre style=\"white-space:pre;overflow-x:auto;line-height:normal;font-family:Menlo,'DejaVu Sans Mono',consolas,'Courier New',monospace\">GS10: Market Yield on U.S. Treasury Securities at <span style=\"color: #008080; text-decoration-color: #008080; font-weight: bold\">10</span>-Year Constant Maturity, Quoted on an Investment Basis\n",
       "</pre>\n"
      ],
      "text/plain": [
       "GS10: Market Yield on U.S. Treasury Securities at \u001b[1;36m10\u001b[0m-Year Constant Maturity, Quoted on an Investment Basis\n"
      ]
     },
     "metadata": {},
     "output_type": "display_data"
    },
    {
     "data": {
      "text/html": [
       "<pre style=\"white-space:pre;overflow-x:auto;line-height:normal;font-family:Menlo,'DejaVu Sans Mono',consolas,'Courier New',monospace\">NONBORRES: Reserves of Depository Institutions, Nonborrowed\n",
       "</pre>\n"
      ],
      "text/plain": [
       "NONBORRES: Reserves of Depository Institutions, Nonborrowed\n"
      ]
     },
     "metadata": {},
     "output_type": "display_data"
    },
    {
     "data": {
      "text/html": [
       "<pre style=\"white-space:pre;overflow-x:auto;line-height:normal;font-family:Menlo,'DejaVu Sans Mono',consolas,'Courier New',monospace\">CES0600000007: Average Weekly Hours of Production and Nonsupervisory Employees, Goods-Producing\n",
       "</pre>\n"
      ],
      "text/plain": [
       "CES0600000007: Average Weekly Hours of Production and Nonsupervisory Employees, Goods-Producing\n"
      ]
     },
     "metadata": {},
     "output_type": "display_data"
    }
   ],
   "source": [
    "sc.list_series()"
   ]
  },
  {
   "cell_type": "code",
   "execution_count": 23,
   "metadata": {},
   "outputs": [],
   "source": [
    "df=sc.merge_wide().set_index(\"date\").pct_change(periods=12)\n",
    "df=df[df.index>=\"1991-01-01\"]"
   ]
  },
  {
   "cell_type": "code",
   "execution_count": 26,
   "metadata": {},
   "outputs": [],
   "source": [
    "df.to_csv('./data/inputs_rf.csv', index=True)"
   ]
  },
  {
   "cell_type": "code",
   "execution_count": null,
   "metadata": {},
   "outputs": [],
   "source": []
  }
 ],
 "metadata": {
  "kernelspec": {
   "display_name": "Python 3",
   "language": "python",
   "name": "python3"
  },
  "language_info": {
   "codemirror_mode": {
    "name": "ipython",
    "version": 3
   },
   "file_extension": ".py",
   "mimetype": "text/x-python",
   "name": "python",
   "nbconvert_exporter": "python",
   "pygments_lexer": "ipython3",
   "version": "3.12.1"
  }
 },
 "nbformat": 4,
 "nbformat_minor": 2
}
